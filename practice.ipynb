{
 "cells": [
  {
   "cell_type": "raw",
   "id": "99c99c08",
   "metadata": {},
   "source": [
    "import re\n",
    "import regex as re"
   ]
  },
  {
   "cell_type": "code",
   "execution_count": 4,
   "id": "22b88121",
   "metadata": {},
   "outputs": [
    {
     "name": "stdout",
     "output_type": "stream",
     "text": [
      "['Data Science', 'data science']\n"
     ]
    }
   ],
   "source": [
    "pattern = \"data science|Data Science\"\n",
    "text = \"Data Science is a stream and part of AI. You can solve any problem data science \"\n",
    "matches = re.findall(pattern, text)\n",
    "print(matches)"
   ]
  },
  {
   "cell_type": "code",
   "execution_count": 7,
   "id": "cb697f64",
   "metadata": {},
   "outputs": [
    {
     "name": "stdout",
     "output_type": "stream",
     "text": [
      "['is', 'akib ', 'is', 'is']\n"
     ]
    }
   ],
   "source": [
    "gas = \"is|akib \" \n",
    "bass= \"pubg is bakwass akib is chaddiman . ghandi is chasma\"\n",
    "aki = re.findall(gas,bass)\n",
    "print(aki)"
   ]
  },
  {
   "cell_type": "code",
   "execution_count": 8,
   "id": "01397b11",
   "metadata": {},
   "outputs": [
    {
     "name": "stdout",
     "output_type": "stream",
     "text": [
      "['Data Science', 'part', 'any', 'data science']\n"
     ]
    }
   ],
   "source": [
    "pattern = \"data science|Data Science|part|any\"\n",
    "text = \"Data Science is a stream and part of AI. You can solve any problem data science \"\n",
    "matches = re.findall(pattern, text)\n",
    "print(matches)"
   ]
  },
  {
   "cell_type": "code",
   "execution_count": 3,
   "id": "80d7d2c9",
   "metadata": {},
   "outputs": [
    {
     "name": "stdout",
     "output_type": "stream",
     "text": [
      "['123', '4567', '678']\n"
     ]
    }
   ],
   "source": [
    "pattern = \"\\d+\"\n",
    "text = \"There are 123 apples and 4567 oranges and 678 guava\"\n",
    "\n",
    "matches = re.findall(pattern,text)\n",
    "print(matches)"
   ]
  },
  {
   "cell_type": "code",
   "execution_count": 4,
   "id": "e0a111a6",
   "metadata": {},
   "outputs": [
    {
     "name": "stdout",
     "output_type": "stream",
     "text": [
      "['1', '2', '3', '4', '5', '6', '7', '6', '7', '8']\n"
     ]
    }
   ],
   "source": [
    "pattern = \"\\d\"\n",
    "text = \"There are 123 apples and 4567 oranges and 678 guava\"\n",
    "\n",
    "matches = re.findall(pattern,text)\n",
    "print(matches)"
   ]
  },
  {
   "cell_type": "code",
   "execution_count": 5,
   "id": "4f0885b6",
   "metadata": {},
   "outputs": [
    {
     "name": "stdout",
     "output_type": "stream",
     "text": [
      "['There are ', ' apples and ', ' oranges and ', ' guava']\n"
     ]
    }
   ],
   "source": [
    "pattern = \"\\D+\"\n",
    "text = \"There are 123 apples and 4567 oranges and 678 guava\"\n",
    "\n",
    "matches = re.findall(pattern,text)\n",
    "print(matches)"
   ]
  },
  {
   "cell_type": "code",
   "execution_count": 6,
   "id": "a99f60f6",
   "metadata": {},
   "outputs": [
    {
     "name": "stdout",
     "output_type": "stream",
     "text": [
      "['T', 'h', 'e', 'r', 'e', ' ', 'a', 'r', 'e', ' ', ' ', 'a', 'p', 'p', 'l', 'e', 's', ' ', 'a', 'n', 'd', ' ', ' ', 'o', 'r', 'a', 'n', 'g', 'e', 's', ' ', 'a', 'n', 'd', ' ', ' ', 'g', 'u', 'a', 'v', 'a']\n"
     ]
    }
   ],
   "source": [
    "pattern = \"\\D\"\n",
    "text = \"There are 123 apples and 4567 oranges and 678 guava\"\n",
    "\n",
    "matches = re.findall(pattern,text)\n",
    "print(matches)"
   ]
  },
  {
   "cell_type": "code",
   "execution_count": 7,
   "id": "7bd3127c",
   "metadata": {},
   "outputs": [
    {
     "name": "stdout",
     "output_type": "stream",
     "text": [
      "['123', '4567', '678']\n"
     ]
    }
   ],
   "source": [
    "pattern = \"[0-9]+\"\n",
    "text = \"There are 123 apples and 4567 oranges and 678 guava\"\n",
    "\n",
    "matches = re.findall(pattern,text)\n",
    "print(matches)"
   ]
  },
  {
   "cell_type": "code",
   "execution_count": 8,
   "id": "60293fb8",
   "metadata": {},
   "outputs": [
    {
     "name": "stdout",
     "output_type": "stream",
     "text": [
      "['1', '2', '3', '4', '5', '6', '7', '6', '7', '8']\n"
     ]
    }
   ],
   "source": [
    "pattern = \"[0-9]\"\n",
    "text = \"There are 123 apples and 4567 oranges and 678 guava\"\n",
    "\n",
    "matches = re.findall(pattern,text)\n",
    "print(matches)"
   ]
  },
  {
   "cell_type": "code",
   "execution_count": 9,
   "id": "c3a555fe",
   "metadata": {},
   "outputs": [
    {
     "name": "stdout",
     "output_type": "stream",
     "text": [
      "['4', '5', '4', '5', '7', '6', '7', '7', '6', '6', '7', '8', '6', '7', '6', '7', '5', '7', '6', '7', '8', '2', '1', '7', '7', '8', '2', '3', '7', '8', '6', '3', '2', '0', '0']\n"
     ]
    }
   ],
   "source": [
    "pattern =\"[0-9]\"\n",
    "matches = re.findall(pattern,'adbnghfgyhj4545jjhv7ghsda677667v86767j576hba7821778fh2378632_00')\n",
    "print(matches)"
   ]
  },
  {
   "cell_type": "code",
   "execution_count": 10,
   "id": "d29a2952",
   "metadata": {},
   "outputs": [
    {
     "name": "stdout",
     "output_type": "stream",
     "text": [
      "['4545', '7', '677667', '86767', '576', '7821778', '2378632', '00']\n"
     ]
    }
   ],
   "source": [
    "pattern =\"[0-9]+\"\n",
    "matches = re.findall(pattern,'adbnghfgyhj4545jjhv7ghsda677667v86767j576hba7821778fh2378632_00')\n",
    "print(matches)"
   ]
  },
  {
   "cell_type": "code",
   "execution_count": 11,
   "id": "9b0f332c",
   "metadata": {},
   "outputs": [
    {
     "name": "stdout",
     "output_type": "stream",
     "text": [
      "['125']\n",
      "['80']\n",
      "['85']\n",
      "['170']\n"
     ]
    }
   ],
   "source": [
    "price = ['Apple costs is 125','Pinnapple costs is 80','guava sold for 85 ','Mango sold for 170 ']\n",
    "for msg in price:\n",
    "    matches = re.findall(\"\\d+\",msg)\n",
    "    print(matches)"
   ]
  },
  {
   "cell_type": "code",
   "execution_count": 12,
   "id": "9ce86e58",
   "metadata": {},
   "outputs": [
    {
     "name": "stdout",
     "output_type": "stream",
     "text": [
      "['1', '2', '5']\n",
      "['8', '0']\n",
      "['8', '5']\n",
      "['1', '7', '0']\n"
     ]
    }
   ],
   "source": [
    "price = ['Apple costs is 125','Pinnapple costs is 80','guava sold for 85 ','Mango sold for 170 ']\n",
    "for msg in price:\n",
    "    matches = re.findall(\"\\d\",msg)\n",
    "    print(matches)"
   ]
  },
  {
   "cell_type": "code",
   "execution_count": 14,
   "id": "7d73116a",
   "metadata": {},
   "outputs": [
    {
     "name": "stdout",
     "output_type": "stream",
     "text": [
      "['Apple costs is ']\n",
      "['Pinnapple costs is ']\n",
      "['guava sold for ', ' ']\n",
      "['Mango sold for ', ' ']\n"
     ]
    }
   ],
   "source": [
    "price = ['Apple costs is 125','Pinnapple costs is 80','guava sold for 85 ','Mango sold for 170 ']\n",
    "for msg in price:\n",
    "    matches = re.findall(\"\\D+\",msg)\n",
    "    print(matches)"
   ]
  },
  {
   "cell_type": "code",
   "execution_count": 20,
   "id": "fef76385",
   "metadata": {},
   "outputs": [
    {
     "name": "stdout",
     "output_type": "stream",
     "text": [
      "Match object: ['indian', 'aerosp', 'scient', 'presid', 'Guess7', '895466']\n"
     ]
    }
   ],
   "source": [
    "target_string= \"APJ Abdul Kalam was a indian aerospace scientist and was also president of India Guess78954665\"\n",
    "result = re.findall(r\"\\w{6}\", target_string)\n",
    "\n",
    "print(\"Match object:\",result)"
   ]
  },
  {
   "cell_type": "code",
   "execution_count": 21,
   "id": "4d45de0e",
   "metadata": {},
   "outputs": [
    {
     "name": "stdout",
     "output_type": "stream",
     "text": [
      "Match object: ['Abdu', 'Kala', 'indi', 'aero', 'spac', 'scie', 'ntis', 'also', 'pres', 'iden', 'Indi', 'Gues', 's789', '5466']\n"
     ]
    }
   ],
   "source": [
    "target_string= \"APJ Abdul Kalam was a indian aerospace scientist and was also president of India Guess78954665\"\n",
    "result = re.findall(r\"\\w{4}\", target_string)\n",
    "\n",
    "print(\"Match object:\",result)"
   ]
  },
  {
   "cell_type": "code",
   "execution_count": 22,
   "id": "9a9c28c0",
   "metadata": {},
   "outputs": [
    {
     "name": "stdout",
     "output_type": "stream",
     "text": [
      "Match object: ['Abdul', 'Kalam', 'indian', 'aerosp', 'scient', 'also', 'presid', 'India', 'Guess7', '895466']\n"
     ]
    }
   ],
   "source": [
    "target_string= \"APJ Abdul Kalam was a indian aerospace scientist and was also president of India Guess78954665\"\n",
    "result = re.findall(r\"\\w{4,6}\", target_string)\n",
    "\n",
    "print(\"Match object:\",result)"
   ]
  },
  {
   "cell_type": "code",
   "execution_count": 23,
   "id": "0778d9fb",
   "metadata": {},
   "outputs": [
    {
     "name": "stdout",
     "output_type": "stream",
     "text": [
      "Match object: ['Abdul', 'Kalam', 'indian', 'aerospace', 'scientist', 'also', 'president', 'India', 'Guess7895', '4665']\n"
     ]
    }
   ],
   "source": [
    "target_string= \"APJ Abdul Kalam was a indian aerospace scientist and was also president of India Guess78954665\"\n",
    "result = re.findall(r\"\\w{4,9}\", target_string)\n",
    "\n",
    "print(\"Match object:\",result)"
   ]
  },
  {
   "cell_type": "code",
   "execution_count": 24,
   "id": "41e7369c",
   "metadata": {},
   "outputs": [],
   "source": [
    "string = \"AP12iK@J Abdu12_*1 APJ Abdul Kalam was a indian aerospace scientist and was also president of India\"\n",
    "pattern = 'A[a-zA-Z0-9@]+J|A[\\w*]+1'\n",
    "\n",
    "result = re.findall(pattern,string)"
   ]
  },
  {
   "cell_type": "code",
   "execution_count": 25,
   "id": "7e64904e",
   "metadata": {},
   "outputs": [
    {
     "name": "stdout",
     "output_type": "stream",
     "text": [
      "['AP12iK@J', 'Abdu12_*1', 'APJ']\n"
     ]
    }
   ],
   "source": [
    "print(result)"
   ]
  },
  {
   "cell_type": "code",
   "execution_count": 26,
   "id": "fb3836ef",
   "metadata": {},
   "outputs": [
    {
     "name": "stdout",
     "output_type": "stream",
     "text": [
      "['AP12iK@J', 'Abdu12_*1', 'APJ']\n"
     ]
    }
   ],
   "source": [
    "string = \"AP12iK@J Abdu12_*1 APJ Abdul Kalam was a indian aerospace scientist and was also president of India\"\n",
    "pattern = 'A[\\w@]+J|A[\\w*]+1'\n",
    "\n",
    "result = re.findall(pattern,string)\n",
    "print(result)"
   ]
  },
  {
   "cell_type": "code",
   "execution_count": 30,
   "id": "1e750723",
   "metadata": {},
   "outputs": [
    {
     "name": "stdout",
     "output_type": "stream",
     "text": [
      "['Abdu12_*1', 'APJ', 'Kalam']\n"
     ]
    }
   ],
   "source": [
    "string = \" Abdu12_*1 APJ Abdul Kalam was a indian aerospace scientist and was also president of India\"\n",
    "pattern = 'A[\\w@]+J|A[\\w*]+1|K[\\w@]+m'\n",
    "\n",
    "result = re.findall(pattern,string)\n",
    "print(result)"
   ]
  },
  {
   "cell_type": "code",
   "execution_count": 34,
   "id": "5fc9b0b4",
   "metadata": {},
   "outputs": [
    {
     "name": "stdout",
     "output_type": "stream",
     "text": [
      "['Twelve :', ' Eighty Nine :89']\n"
     ]
    }
   ],
   "source": [
    "string = 'Twelve :12 Eighty Nine :89'\n",
    "pattern = '\\d+'\n",
    "result = re.split(pattern,string,1)\n",
    "print(result)"
   ]
  },
  {
   "cell_type": "code",
   "execution_count": 35,
   "id": "776e67ab",
   "metadata": {},
   "outputs": [
    {
     "name": "stdout",
     "output_type": "stream",
     "text": [
      "['Twelve :', ' Eighty Nine :', '']\n"
     ]
    }
   ],
   "source": [
    "string = 'Twelve :12 Eighty Nine :89'\n",
    "pattern = '\\d+'\n",
    "result = re.split(pattern,string)\n",
    "print(result)"
   ]
  },
  {
   "cell_type": "code",
   "execution_count": 36,
   "id": "9efaee59",
   "metadata": {},
   "outputs": [
    {
     "name": "stdout",
     "output_type": "stream",
     "text": [
      "['Twelve :', ' Eighty Nine :', '']\n"
     ]
    }
   ],
   "source": [
    "string = 'Twelve :12 Eighty Nine :89'\n",
    "pattern = '\\d+'\n",
    "result = re.split(pattern,string,2)\n",
    "print(result)"
   ]
  },
  {
   "cell_type": "code",
   "execution_count": 38,
   "id": "a9c97cb8",
   "metadata": {},
   "outputs": [
    {
     "name": "stdout",
     "output_type": "stream",
     "text": [
      "['Honesty', 'is', 'the', 'best', 'policy']\n"
     ]
    }
   ],
   "source": [
    "text = \"Honesty is the best policy\"\n",
    "y = re.split(\"\\s\",text)\n",
    "print(y)"
   ]
  },
  {
   "cell_type": "code",
   "execution_count": 40,
   "id": "29d3930e",
   "metadata": {},
   "outputs": [
    {
     "name": "stdout",
     "output_type": "stream",
     "text": [
      "['Honesty', 'is', 'the best policy']\n"
     ]
    }
   ],
   "source": [
    "text = \"Honesty is the best policy\"\n",
    "y = re.split(\"\\s\",text,2)\n",
    "print(y)"
   ]
  },
  {
   "cell_type": "code",
   "execution_count": 41,
   "id": "9faae020",
   "metadata": {},
   "outputs": [
    {
     "name": "stdout",
     "output_type": "stream",
     "text": [
      "['Honesty', 'is the best policy']\n"
     ]
    }
   ],
   "source": [
    "text = \"Honesty is the best policy\"\n",
    "y = re.split(\"\\s\",text,1)\n",
    "print(y)"
   ]
  },
  {
   "cell_type": "code",
   "execution_count": 42,
   "id": "9b9365ba",
   "metadata": {},
   "outputs": [
    {
     "name": "stdout",
     "output_type": "stream",
     "text": [
      "['Honesty', 'is', 'the', 'best policy']\n"
     ]
    }
   ],
   "source": [
    "text = \"Honesty is the best policy\"\n",
    "y = re.split(\"\\s\",text,3)\n",
    "print(y)"
   ]
  },
  {
   "cell_type": "code",
   "execution_count": 43,
   "id": "23aa3271",
   "metadata": {},
   "outputs": [
    {
     "name": "stdout",
     "output_type": "stream",
     "text": [
      "['wuefeuwegio8ee', 'fwhduiui', 'dwuidwiu', 'uiegqugui', 'EUIUEUIU UYGWYWY HRW3UYRW RUUU DSWEUYGEE WHBJUHW abadhhfe']\n"
     ]
    }
   ],
   "source": [
    "guest = 'wuefeuwegio8ee fwhduiui dwuidwiu uiegqugui EUIUEUIU UYGWYWY HRW3UYRW RUUU DSWEUYGEE WHBJUHW abadhhfe'\n",
    "x= re.split('\\s',guest,4)\n",
    "print(x)"
   ]
  },
  {
   "cell_type": "code",
   "execution_count": 45,
   "id": "02c36d24",
   "metadata": {},
   "outputs": [
    {
     "name": "stdout",
     "output_type": "stream",
     "text": [
      "wuefeuwegio8ee+fwhduiui+dwuidwiu+uiegqugui+EUIUEUIU+UYGWYWY+HRW3UYRW+RUUU+DSWEUYGEE+WHBJUHW+abadhhfe\n"
     ]
    }
   ],
   "source": [
    "sub = 'wuefeuwegio8ee fwhduiui dwuidwiu uiegqugui EUIUEUIU UYGWYWY HRW3UYRW RUUU DSWEUYGEE WHBJUHW abadhhfe'\n",
    "x= re.sub('\\s',\"+\",sub)\n",
    "print(x) "
   ]
  },
  {
   "cell_type": "code",
   "execution_count": 49,
   "id": "9a4084c1",
   "metadata": {},
   "outputs": [
    {
     "name": "stdout",
     "output_type": "stream",
     "text": [
      "This item cost $ 25000 and rs 8500\n"
     ]
    }
   ],
   "source": [
    "y= 'Rs'\n",
    "text1 = 'This item cost Rs 25000 and rs 8500'\n",
    "replaced_text=re.sub(y,\"$\",text1)\n",
    "print(replaced_text)"
   ]
  },
  {
   "cell_type": "code",
   "execution_count": 50,
   "id": "27a15b6a",
   "metadata": {},
   "outputs": [
    {
     "name": "stdout",
     "output_type": "stream",
     "text": [
      "This item cost $ 25000 and $ 8500\n"
     ]
    }
   ],
   "source": [
    "y= 'Rs'\n",
    "text1 = 'This item cost Rs 25000 and Rs 8500'\n",
    "replaced_text=re.sub(y,\"$\",text1,flags=re )\n",
    "print(replaced_text)"
   ]
  },
  {
   "cell_type": "code",
   "execution_count": 3,
   "id": "33156dd7",
   "metadata": {},
   "outputs": [],
   "source": [
    "y= 'Rs'\n",
    "text1 = 'This item cost Rs 25000 and rs 8500 and RS 85222'\n",
    "replaced_text=re.sub(y,\"$\",text1)"
   ]
  },
  {
   "cell_type": "code",
   "execution_count": 18,
   "id": "c329408f",
   "metadata": {},
   "outputs": [],
   "source": [
    "import re"
   ]
  },
  {
   "cell_type": "code",
   "execution_count": 19,
   "id": "2ea3dacc",
   "metadata": {},
   "outputs": [],
   "source": [
    "import regex as re"
   ]
  },
  {
   "cell_type": "code",
   "execution_count": 5,
   "id": "d0ee8e3f",
   "metadata": {},
   "outputs": [
    {
     "name": "stdout",
     "output_type": "stream",
     "text": [
      "APJAbdulKalamwasaindianaerospacescientistandwasalsopresidentofIndia\n"
     ]
    }
   ],
   "source": [
    "t_string = \"APJ Abdul Kalam was a indian aerospace scientist and was also president of India\"\n",
    "res_str= re.sub(r\"\\s+\",\"\",t_string)\n",
    "print(res_str)"
   ]
  },
  {
   "cell_type": "code",
   "execution_count": 6,
   "id": "d3ad6515",
   "metadata": {},
   "outputs": [
    {
     "name": "stdout",
     "output_type": "stream",
     "text": [
      "APJ Abdul Kalam was a indian aerospace scientist and was also president of India\n",
      "APJAbdulKalamwasaindianaerospacescientistandwasalsopresidentofIndia\n"
     ]
    }
   ],
   "source": [
    "t_string = \"APJ Abdul Kalam was a indian aerospace scientist and was also president of India\"\n",
    "print(t_string)\n",
    "\n",
    "res_str= re.sub(r\"\\s+\",\"\",t_string)\n",
    "print(res_str)"
   ]
  },
  {
   "cell_type": "code",
   "execution_count": 7,
   "id": "14605881",
   "metadata": {},
   "outputs": [
    {
     "name": "stdout",
     "output_type": "stream",
     "text": [
      "APJ Abdul Kalam was a indian aerospace scientist and was also president of India\n",
      "APJ Abdul Kalam was a indian aerospace scientist and was also president of India\n"
     ]
    }
   ],
   "source": [
    "t_string = \"APJ Abdul Kalam was a indian aerospace scientist and was also president of India\"\n",
    "print(t_string)\n",
    "\n",
    "res_str= re.sub(r\"\\s+$\",\"\",t_string)\n",
    "print(res_str)"
   ]
  },
  {
   "cell_type": "code",
   "execution_count": 8,
   "id": "5d3f31ac",
   "metadata": {},
   "outputs": [
    {
     "name": "stdout",
     "output_type": "stream",
     "text": [
      "APJ Abdul Kalam was a indian aerospace scientist and was also president of India\n",
      "APJ Abdul Kalam was a indian aerospace scientist and was also president of India\n"
     ]
    }
   ],
   "source": [
    "t_string = \"APJ Abdul Kalam was a indian aerospace scientist and was also president of India\"\n",
    "print(t_string)\n",
    "\n",
    "res_str= re.sub(r\"^\\s+\",\"\",t_string)\n",
    "print(res_str)"
   ]
  },
  {
   "cell_type": "code",
   "execution_count": 9,
   "id": "d4dd48bb",
   "metadata": {},
   "outputs": [
    {
     "name": "stdout",
     "output_type": "stream",
     "text": [
      "('ajhdfhg*gerrgd*rhrryhrh*rhhd*rrfhhrf*', 5)\n"
     ]
    }
   ],
   "source": [
    "subt_and_count=re.subn(r'[0-9]+',r'*','ajhdfhg654546gerrgd65456rhrryhrh56rhhd654521rrfhhrf654')\n",
    "print(subt_and_count)"
   ]
  },
  {
   "cell_type": "code",
   "execution_count": 12,
   "id": "b7f8c621",
   "metadata": {},
   "outputs": [
    {
     "name": "stdout",
     "output_type": "stream",
     "text": [
      "None\n"
     ]
    }
   ],
   "source": [
    "ta_string='Dighir par high school establishrd in 1973'\n",
    "result=re.match(r\"\\d{4}\", ta_string)\n",
    "print(result)"
   ]
  },
  {
   "cell_type": "code",
   "execution_count": 13,
   "id": "b9b857d2",
   "metadata": {},
   "outputs": [
    {
     "name": "stdout",
     "output_type": "stream",
     "text": [
      "None\n"
     ]
    }
   ],
   "source": [
    "ta_string=' 1967 Dighir par high school establishrd in 1973'\n",
    "result=re.match(r\"\\d{4}\", ta_string)\n",
    "print(result)"
   ]
  },
  {
   "cell_type": "code",
   "execution_count": 14,
   "id": "324ee55d",
   "metadata": {},
   "outputs": [
    {
     "name": "stdout",
     "output_type": "stream",
     "text": [
      "<regex.Match object; span=(0, 4), match='Digh'>\n"
     ]
    }
   ],
   "source": [
    "ta_string='Dighir par high school establishrd in 1973'\n",
    "result=re.match(r\"\\w{4}\", ta_string)\n",
    "print(result)"
   ]
  },
  {
   "cell_type": "code",
   "execution_count": 15,
   "id": "5a4c135a",
   "metadata": {},
   "outputs": [
    {
     "name": "stdout",
     "output_type": "stream",
     "text": [
      "<regex.Match object; span=(0, 6), match='Dighir'>\n"
     ]
    }
   ],
   "source": [
    "ta_string='Dighir par high school establishrd in 1973'\n",
    "result=re.match(r\"\\w+\", ta_string)\n",
    "print(result)"
   ]
  },
  {
   "cell_type": "code",
   "execution_count": 16,
   "id": "5819932a",
   "metadata": {},
   "outputs": [
    {
     "name": "stdout",
     "output_type": "stream",
     "text": [
      "<regex.Match object; span=(0, 42), match='Dighir par high school establishrd in 1973'>\n"
     ]
    }
   ],
   "source": [
    "ta_string='Dighir par high school establishrd in 1973'\n",
    "result=re.match(r\".+\", ta_string)\n",
    "print(result)"
   ]
  },
  {
   "cell_type": "code",
   "execution_count": 17,
   "id": "e337594a",
   "metadata": {},
   "outputs": [
    {
     "name": "stdout",
     "output_type": "stream",
     "text": [
      "<regex.Match object; span=(0, 6), match='Dighir'>\n"
     ]
    }
   ],
   "source": [
    "ta_string='Dighir par high school establishrd in 1973'\n",
    "result=re.match(r\"\\w{6}\", ta_string)\n",
    "print(result)"
   ]
  },
  {
   "cell_type": "code",
   "execution_count": 20,
   "id": "39ff7d56",
   "metadata": {},
   "outputs": [
    {
     "name": "stdout",
     "output_type": "stream",
     "text": [
      "None\n",
      "None\n",
      "<regex.Match object; span=(11, 17), match='banana'>\n",
      "<regex.Match object; span=(0, 6), match='banana'>\n",
      "None\n"
     ]
    }
   ],
   "source": [
    "msges = ['Bananas are not only very delicious pieces of fruit ',\n",
    "        'they are also super healthy' ,\n",
    "        'Eating two bananas a day can do wonders for your health,banana',\n",
    "        'banana for example .But did you ever think of sticking a needle into a banana? Probably not ,',\n",
    "        'but you should , because it is super handy!']\n",
    "for msg in msges:\n",
    "    search=re.search(\"banana\",msg)\n",
    "    print(search)"
   ]
  },
  {
   "cell_type": "code",
   "execution_count": 21,
   "id": "0d6632f4",
   "metadata": {},
   "outputs": [
    {
     "name": "stdout",
     "output_type": "stream",
     "text": [
      "[]\n",
      "[]\n",
      "['banana', 'banana']\n",
      "['banana', 'banana']\n",
      "[]\n"
     ]
    }
   ],
   "source": [
    "msges = ['Bananas are not only very delicious pieces of fruit ',\n",
    "        'they are also super healthy' ,\n",
    "        'Eating two bananas a day can do wonders for your health,banana',\n",
    "        'banana for example .But did you ever think of sticking a needle into a banana? Probably not ,',\n",
    "        'but you should , because it is super handy!']\n",
    "for msg in msges:\n",
    "    search=re.findall(\"banana\",msg)\n",
    "    print(search)"
   ]
  },
  {
   "cell_type": "code",
   "execution_count": 22,
   "id": "1bbbe186",
   "metadata": {},
   "outputs": [
    {
     "name": "stdout",
     "output_type": "stream",
     "text": [
      "<regex.Match object; span=(0, 27), match='This product is really good'>\n"
     ]
    }
   ],
   "source": [
    "msg1=\"This product is really good\"\n",
    "search=re.search(\"^This.*good$\",msg1)\n",
    "print(search)"
   ]
  },
  {
   "cell_type": "code",
   "execution_count": 25,
   "id": "c7da082c",
   "metadata": {},
   "outputs": [
    {
     "name": "stdout",
     "output_type": "stream",
     "text": [
      "Match object: <regex.Match object; span=(22, 28), match='indian'>\n",
      "Match value: indian\n"
     ]
    }
   ],
   "source": [
    "tax_string = \"APJ Abdul Kalam was a indian aerospace scientist and was also president of India\"\n",
    "result=re.search(r\"\\w{6}\",tax_string)\n",
    "\n",
    "print(\"Match object:\",result)\n",
    "print(\"Match value:\",result.group())"
   ]
  },
  {
   "cell_type": "code",
   "execution_count": 26,
   "id": "59607d12",
   "metadata": {},
   "outputs": [
    {
     "name": "stdout",
     "output_type": "stream",
     "text": [
      "('43', 'CENTURIES', '91', 'HALFCENTURIES')\n"
     ]
    }
   ],
   "source": [
    "Target_string= \"Rohit Sharma has scored 43 CENTURIES and 91 HALFCENTURIES in his cricket career\"\n",
    "result=re.search(r\"(\\b\\d+).+(\\b[A-Z]+\\b).+(\\b\\d+).+(\\b[A-Z]+\\b)\",Target_string)\n",
    "print(result.groups())"
   ]
  },
  {
   "cell_type": "code",
   "execution_count": 31,
   "id": "811ab51d",
   "metadata": {},
   "outputs": [
    {
     "name": "stdout",
     "output_type": "stream",
     "text": [
      "('43', 'CENTURIES', '91', 'HALFCENTURIES')\n"
     ]
    }
   ],
   "source": [
    "print(result.groups())"
   ]
  },
  {
   "cell_type": "code",
   "execution_count": 32,
   "id": "d30b8d6e",
   "metadata": {},
   "outputs": [
    {
     "name": "stdout",
     "output_type": "stream",
     "text": [
      "43\n"
     ]
    }
   ],
   "source": [
    "print(result.group(1))"
   ]
  },
  {
   "cell_type": "code",
   "execution_count": 33,
   "id": "4b9f6bd5",
   "metadata": {},
   "outputs": [
    {
     "name": "stdout",
     "output_type": "stream",
     "text": [
      "('43', '91')\n"
     ]
    }
   ],
   "source": [
    "print(result.group(1,3))"
   ]
  },
  {
   "cell_type": "code",
   "execution_count": 34,
   "id": "fa16d1af",
   "metadata": {},
   "outputs": [
    {
     "name": "stdout",
     "output_type": "stream",
     "text": [
      "('CENTURIES', 'HALFCENTURIES')\n"
     ]
    }
   ],
   "source": [
    "print(result.group(2,4))"
   ]
  },
  {
   "cell_type": "code",
   "execution_count": 40,
   "id": "3149589d",
   "metadata": {},
   "outputs": [
    {
     "name": "stdout",
     "output_type": "stream",
     "text": [
      "43 CENTURIES\n",
      "91 HALFCENTURIES\n"
     ]
    }
   ],
   "source": [
    "Target_string= \"Rohit Sharma has scored 43 CENTURIES and 91 HALFCENTURIES in his cricket career\"\n",
    "\n",
    "pattern= re.compile(r\"(\\b\\d+\\b).(\\b[A-Z]+\\b)\")\n",
    "\n",
    "for match1 in pattern.finditer(Target_string):\n",
    "    print(match1.group())"
   ]
  },
  {
   "cell_type": "code",
   "execution_count": 41,
   "id": "60e8215d",
   "metadata": {},
   "outputs": [
    {
     "name": "stdout",
     "output_type": "stream",
     "text": [
      "<regex.Match object; span=(21, 27), match='player'>\n",
      "<regex.Match object; span=(63, 69), match='played'>\n"
     ]
    }
   ],
   "source": [
    "target_string= \"Emma is a basketball player who was born on June 17, 1993. She played 112 matches with a scoring average of 26.12 points per gsame. her weight bis 71 Pound. \"\n",
    "result=re.finditer(r\"player|played\",target_string)\n",
    "\n",
    "for match_ob in result:\n",
    "    print(match_ob)"
   ]
  },
  {
   "cell_type": "code",
   "execution_count": 42,
   "id": "7a51daeb",
   "metadata": {},
   "outputs": [
    {
     "name": "stdout",
     "output_type": "stream",
     "text": [
      "<regex.Match object; span=(28, 31), match='who'>\n",
      "<regex.Match object; span=(74, 81), match='matches'>\n",
      "<regex.Match object; span=(97, 104), match='average'>\n"
     ]
    }
   ],
   "source": [
    "target_string= \"Emma is a basketball player who was born on June 17, 1993. She played 112 matches with a scoring average of 26.12 points per gsame. her weight bis 71 Pound. \"\n",
    "result=re.finditer(r\"who|matches|average\",target_string)\n",
    "\n",
    "for match_ob in result:\n",
    "    print(match_ob)"
   ]
  },
  {
   "cell_type": "code",
   "execution_count": 43,
   "id": "4a4d8754",
   "metadata": {},
   "outputs": [
    {
     "name": "stdout",
     "output_type": "stream",
     "text": [
      "who\n",
      "matches\n",
      "average\n"
     ]
    }
   ],
   "source": [
    "target_string= \"Emma is a basketball player who was born on June 17, 1993. She played 112 matches with a scoring average of 26.12 points per gsame. her weight bis 71 Pound. \"\n",
    "result=re.finditer(r\"who|matches|average\",target_string)\n",
    "\n",
    "for match_ob in result:\n",
    "    print(match_ob.group())"
   ]
  },
  {
   "cell_type": "code",
   "execution_count": 44,
   "id": "18550d2c",
   "metadata": {},
   "outputs": [
    {
     "name": "stdout",
     "output_type": "stream",
     "text": [
      "<class 'str'>\n"
     ]
    }
   ],
   "source": [
    "stri= \"\"\"Chandrayaan-3 is a follow-on mission to chandrayaan-2 to demonstrate end-to-end capability in safe landing and roving onthe luner surface.\n",
    "It consists of Lander and Rover configuration.It will be launched by LVM3 from SDSC SHAR ,Sriharikota.\n",
    "The propulsion module will carry the lander and rover configuration til 1020 Km luner orbit.\n",
    "The propulsion module has spectro-polarimetry of habitable Planet Earth (SHAPE) payload to study the spectral and polari metric measurments of Earth from lunar orbit\"\"\"\n",
    "\n",
    "string_pattern= r\"\\d{4}\"\n",
    "print(type(string_pattern))"
   ]
  },
  {
   "cell_type": "code",
   "execution_count": 45,
   "id": "94f16104",
   "metadata": {},
   "outputs": [],
   "source": [
    "regex_pattern=re.compile(string_pattern)"
   ]
  },
  {
   "cell_type": "code",
   "execution_count": 46,
   "id": "1b87d05f",
   "metadata": {},
   "outputs": [
    {
     "name": "stdout",
     "output_type": "stream",
     "text": [
      "<class '_regex.Pattern'>\n"
     ]
    }
   ],
   "source": [
    "print(type(regex_pattern))"
   ]
  },
  {
   "cell_type": "code",
   "execution_count": 47,
   "id": "3a3b3e15",
   "metadata": {},
   "outputs": [
    {
     "name": "stdout",
     "output_type": "stream",
     "text": [
      "<class '_regex.Pattern'> \n",
      "\n"
     ]
    }
   ],
   "source": [
    "print(type(regex_pattern),\"\\n\")"
   ]
  },
  {
   "cell_type": "code",
   "execution_count": 48,
   "id": "383664a7",
   "metadata": {},
   "outputs": [],
   "source": [
    "result= regex_pattern.findall(stri)"
   ]
  },
  {
   "cell_type": "code",
   "execution_count": 49,
   "id": "a852017a",
   "metadata": {},
   "outputs": [
    {
     "name": "stdout",
     "output_type": "stream",
     "text": [
      "['1020']\n"
     ]
    }
   ],
   "source": [
    "print(result)"
   ]
  },
  {
   "cell_type": "code",
   "execution_count": 55,
   "id": "9fa2d257",
   "metadata": {},
   "outputs": [
    {
     "name": "stdout",
     "output_type": "stream",
     "text": [
      "Ram went to to his home.\n"
     ]
    }
   ],
   "source": [
    "string_1=\"Ram went went to to to his his home.\"\n",
    "regex= r'\\b(\\w+)(?:\\W+\\1\\b+)'\n",
    "x = re.sub(regex,r'\\1',string_1)\n",
    "print(x)"
   ]
  },
  {
   "cell_type": "code",
   "execution_count": 56,
   "id": "1d08161c",
   "metadata": {},
   "outputs": [
    {
     "name": "stdout",
     "output_type": "stream",
     "text": [
      "Ram went to his home.\n"
     ]
    }
   ],
   "source": [
    "string_1=\"Ram went went to to to his his home.\"\n",
    "regex= r'\\b(\\w+)(?:\\W+\\1\\b)+'\n",
    "x = re.sub(regex,r'\\1',string_1)\n",
    "print(x)"
   ]
  },
  {
   "cell_type": "code",
   "execution_count": 58,
   "id": "f2887b02",
   "metadata": {},
   "outputs": [
    {
     "name": "stdout",
     "output_type": "stream",
     "text": [
      "Ram went to his home.\n"
     ]
    }
   ],
   "source": [
    "string_1=\"Ram went went to to to his his home.\"\n",
    "regex= r'\\b(\\w+)(?:\\W+\\1\\b)+'\n",
    "x = re.sub(regex,r'\\1',string_1)\n",
    "print(x)"
   ]
  },
  {
   "cell_type": "code",
   "execution_count": 61,
   "id": "d141af18",
   "metadata": {},
   "outputs": [
    {
     "ename": "FileNotFoundError",
     "evalue": "[Errno 2] No such file or directory: '/content/url_related.txt'",
     "output_type": "error",
     "traceback": [
      "\u001b[1;31m---------------------------------------------------------------------------\u001b[0m",
      "\u001b[1;31mFileNotFoundError\u001b[0m                         Traceback (most recent call last)",
      "Cell \u001b[1;32mIn[61], line 2\u001b[0m\n\u001b[0;32m      1\u001b[0m \u001b[38;5;28;01mimport\u001b[39;00m \u001b[38;5;21;01mre\u001b[39;00m\n\u001b[1;32m----> 2\u001b[0m \u001b[38;5;28;01mwith\u001b[39;00m \u001b[38;5;28mopen\u001b[39m(\u001b[38;5;124m\"\u001b[39m\u001b[38;5;124m/content/url_related.txt\u001b[39m\u001b[38;5;124m\"\u001b[39m) \u001b[38;5;28;01mas\u001b[39;00m file:\n\u001b[0;32m      3\u001b[0m     \u001b[38;5;28;01mfor\u001b[39;00m line \u001b[38;5;129;01min\u001b[39;00m file:\n\u001b[0;32m      4\u001b[0m         urls\u001b[38;5;241m=\u001b[39mre\u001b[38;5;241m.\u001b[39mfindall(\u001b[38;5;124m'\u001b[39m\u001b[38;5;124mhttps?://(?:[-\u001b[39m\u001b[38;5;124m\\\u001b[39m\u001b[38;5;124mw.]|(?:\u001b[39m\u001b[38;5;124m%\u001b[39m\u001b[38;5;124m[\u001b[39m\u001b[38;5;124m\\\u001b[39m\u001b[38;5;124mda-zA-Z0-9]\u001b[39m\u001b[38;5;132;01m{2}\u001b[39;00m\u001b[38;5;124m))+\u001b[39m\u001b[38;5;124m'\u001b[39m, line)\n",
      "File \u001b[1;32m~\\anaconda3\\Lib\\site-packages\\IPython\\core\\interactiveshell.py:286\u001b[0m, in \u001b[0;36m_modified_open\u001b[1;34m(file, *args, **kwargs)\u001b[0m\n\u001b[0;32m    279\u001b[0m \u001b[38;5;28;01mif\u001b[39;00m file \u001b[38;5;129;01min\u001b[39;00m {\u001b[38;5;241m0\u001b[39m, \u001b[38;5;241m1\u001b[39m, \u001b[38;5;241m2\u001b[39m}:\n\u001b[0;32m    280\u001b[0m     \u001b[38;5;28;01mraise\u001b[39;00m \u001b[38;5;167;01mValueError\u001b[39;00m(\n\u001b[0;32m    281\u001b[0m         \u001b[38;5;124mf\u001b[39m\u001b[38;5;124m\"\u001b[39m\u001b[38;5;124mIPython won\u001b[39m\u001b[38;5;124m'\u001b[39m\u001b[38;5;124mt let you open fd=\u001b[39m\u001b[38;5;132;01m{\u001b[39;00mfile\u001b[38;5;132;01m}\u001b[39;00m\u001b[38;5;124m by default \u001b[39m\u001b[38;5;124m\"\u001b[39m\n\u001b[0;32m    282\u001b[0m         \u001b[38;5;124m\"\u001b[39m\u001b[38;5;124mas it is likely to crash IPython. If you know what you are doing, \u001b[39m\u001b[38;5;124m\"\u001b[39m\n\u001b[0;32m    283\u001b[0m         \u001b[38;5;124m\"\u001b[39m\u001b[38;5;124myou can use builtins\u001b[39m\u001b[38;5;124m'\u001b[39m\u001b[38;5;124m open.\u001b[39m\u001b[38;5;124m\"\u001b[39m\n\u001b[0;32m    284\u001b[0m     )\n\u001b[1;32m--> 286\u001b[0m \u001b[38;5;28;01mreturn\u001b[39;00m io_open(file, \u001b[38;5;241m*\u001b[39margs, \u001b[38;5;241m*\u001b[39m\u001b[38;5;241m*\u001b[39mkwargs)\n",
      "\u001b[1;31mFileNotFoundError\u001b[0m: [Errno 2] No such file or directory: '/content/url_related.txt'"
     ]
    }
   ],
   "source": [
    "import re\n",
    "with open(\"/content/url_related.txt\") as file:\n",
    "    for line in file:\n",
    "        urls=re.findall('https?://(?:[-\\w.]|(?:%[\\da-zA-Z0-9]{2}))+', line)\n",
    "        print(urls)"
   ]
  },
  {
   "cell_type": "code",
   "execution_count": 1,
   "id": "c517670f",
   "metadata": {},
   "outputs": [],
   "source": [
    "import pandas as pd\n",
    "import regex as re"
   ]
  },
  {
   "cell_type": "code",
   "execution_count": null,
   "id": "56a164d3",
   "metadata": {},
   "outputs": [],
   "source": []
  }
 ],
 "metadata": {
  "kernelspec": {
   "display_name": "Python 3 (ipykernel)",
   "language": "python",
   "name": "python3"
  },
  "language_info": {
   "codemirror_mode": {
    "name": "ipython",
    "version": 3
   },
   "file_extension": ".py",
   "mimetype": "text/x-python",
   "name": "python",
   "nbconvert_exporter": "python",
   "pygments_lexer": "ipython3",
   "version": "3.11.5"
  }
 },
 "nbformat": 4,
 "nbformat_minor": 5
}
